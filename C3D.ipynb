{
 "cells": [
  {
   "cell_type": "markdown",
   "metadata": {
    "id": "9-lms5WWrqI2"
   },
   "source": [
    "## **OPENING AND LOADING THE DATASET**"
   ]
  },
  {
   "cell_type": "code",
   "execution_count": null,
   "metadata": {
    "colab": {
     "base_uri": "https://localhost:8080/",
     "height": 50
    },
    "id": "lTABFc-vgQpN",
    "outputId": "73718437-5955-4e3d-da2e-059b0f9d951f"
   },
   "outputs": [
    {
     "name": "stdout",
     "output_type": "stream",
     "text": [
      "['X']\n",
      "['labels']\n"
     ]
    }
   ],
   "source": [
    "import h5py\n",
    "hfx = h5py.File('DataX.h5', 'r')\n",
    "hfy = h5py.File('DataY.h5', 'r')\n",
    "print(list(hfx.keys()))\n",
    "print(list(hfy.keys()))"
   ]
  },
  {
   "cell_type": "code",
   "execution_count": null,
   "metadata": {
    "colab": {
     "base_uri": "https://localhost:8080/",
     "height": 34
    },
    "id": "psFC0eaerubr",
    "outputId": "f308db36-9894-4125-f94c-6a149600ba67"
   },
   "outputs": [
    {
     "name": "stdout",
     "output_type": "stream",
     "text": [
      "(4511, 16, 112, 112, 3)\n"
     ]
    }
   ],
   "source": [
    "import numpy as np\n",
    "x = np.asarray(hfx['X'])\n",
    "print(x.shape)"
   ]
  },
  {
   "cell_type": "code",
   "execution_count": null,
   "metadata": {
    "colab": {
     "base_uri": "https://localhost:8080/",
     "height": 34
    },
    "id": "02NcHbaDsKx7",
    "outputId": "43ef9c9a-2fdd-4e47-c32e-0419e9f90dd8"
   },
   "outputs": [
    {
     "data": {
      "text/plain": [
       "(4511, 10)"
      ]
     },
     "execution_count": 5,
     "metadata": {
      "tags": []
     },
     "output_type": "execute_result"
    }
   ],
   "source": [
    "import numpy as np\n",
    "y = np.asarray(hfy['labels'])\n",
    "y.shape"
   ]
  },
  {
   "cell_type": "code",
   "execution_count": null,
   "metadata": {
    "id": "FBM0P4UZh52p"
   },
   "outputs": [],
   "source": [
    "hfx.close()\n",
    "hfy.close()"
   ]
  },
  {
   "cell_type": "markdown",
   "metadata": {
    "id": "6NtTzE9rvQpW"
   },
   "source": [
    "## **SPLITTING THE DATASET INTO TRAINING, VALIDATION AND TESTING**"
   ]
  },
  {
   "cell_type": "code",
   "execution_count": null,
   "metadata": {
    "id": "t3EamwuNwvH1"
   },
   "outputs": [],
   "source": [
    "from sklearn.model_selection import train_test_split\n",
    "X_train, X_val, y_train, y_val = train_test_split(x, y, test_size=0.2, stratify=y)\n",
    "X_val, X_test, y_val, y_test = train_test_split(X_val, y_val, test_size=0.5, stratify=y_val)\n",
    "del x,y"
   ]
  },
  {
   "cell_type": "code",
   "execution_count": null,
   "metadata": {
    "colab": {
     "base_uri": "https://localhost:8080/",
     "height": 151
    },
    "id": "Nd6QHRJQ326R",
    "outputId": "5c6d3e0f-2841-4b5d-9e61-30d596615ede"
   },
   "outputs": [
    {
     "name": "stdout",
     "output_type": "stream",
     "text": [
      "(3608, 16, 112, 112, 3)\n",
      "(3608, 10)\n",
      "\n",
      "(451, 16, 112, 112, 3)\n",
      "(451, 10)\n",
      "\n",
      "(452, 16, 112, 112, 3)\n",
      "(452, 10)\n"
     ]
    }
   ],
   "source": [
    "print(X_train.shape)\n",
    "print(y_train.shape)\n",
    "print()\n",
    "print(X_val.shape)\n",
    "print(y_val.shape)\n",
    "print()\n",
    "print(X_test.shape)\n",
    "print(y_test.shape)"
   ]
  },
  {
   "cell_type": "markdown",
   "metadata": {
    "id": "fKUur1i0uPv1"
   },
   "source": [
    "## **C3D ARCHITECTURE**"
   ]
  },
  {
   "cell_type": "code",
   "execution_count": null,
   "metadata": {
    "colab": {
     "base_uri": "https://localhost:8080/",
     "height": 1000
    },
    "id": "JRrVc9AlBPSe",
    "outputId": "4b4fdb24-3871-4519-bfd5-244cdcfe489b"
   },
   "outputs": [
    {
     "name": "stderr",
     "output_type": "stream",
     "text": [
      "Using TensorFlow backend.\n",
      "/usr/local/lib/python3.6/dist-packages/ipykernel_launcher.py:11: UserWarning: Update your `Conv3D` call to the Keras 2 API: `Conv3D(64, (3, 3, 3), activation=\"relu\", name=\"conv1\", input_shape=(16, 112, ..., strides=(1, 1, 1), padding=\"same\")`\n",
      "  # This is added back by InteractiveShellApp.init_path()\n",
      "/usr/local/lib/python3.6/dist-packages/ipykernel_launcher.py:14: UserWarning: Update your `MaxPooling3D` call to the Keras 2 API: `MaxPooling3D(pool_size=(1, 2, 2), strides=(1, 2, 2), name=\"pool1\", padding=\"valid\")`\n",
      "  \n",
      "/usr/local/lib/python3.6/dist-packages/ipykernel_launcher.py:17: UserWarning: Update your `Conv3D` call to the Keras 2 API: `Conv3D(128, (3, 3, 3), activation=\"relu\", name=\"conv2\", strides=(1, 1, 1), padding=\"same\")`\n",
      "/usr/local/lib/python3.6/dist-packages/ipykernel_launcher.py:20: UserWarning: Update your `MaxPooling3D` call to the Keras 2 API: `MaxPooling3D(pool_size=(2, 2, 2), strides=(2, 2, 2), name=\"pool2\", padding=\"valid\")`\n",
      "/usr/local/lib/python3.6/dist-packages/ipykernel_launcher.py:23: UserWarning: Update your `Conv3D` call to the Keras 2 API: `Conv3D(256, (3, 3, 3), activation=\"relu\", name=\"conv3a\", strides=(1, 1, 1), padding=\"same\")`\n",
      "/usr/local/lib/python3.6/dist-packages/ipykernel_launcher.py:26: UserWarning: Update your `Conv3D` call to the Keras 2 API: `Conv3D(256, (3, 3, 3), activation=\"relu\", name=\"conv3b\", strides=(1, 1, 1), padding=\"same\")`\n",
      "/usr/local/lib/python3.6/dist-packages/ipykernel_launcher.py:29: UserWarning: Update your `MaxPooling3D` call to the Keras 2 API: `MaxPooling3D(pool_size=(2, 2, 2), strides=(2, 2, 2), name=\"pool3\", padding=\"valid\")`\n",
      "/usr/local/lib/python3.6/dist-packages/ipykernel_launcher.py:32: UserWarning: Update your `Conv3D` call to the Keras 2 API: `Conv3D(512, (3, 3, 3), activation=\"relu\", name=\"conv4a\", strides=(1, 1, 1), padding=\"same\")`\n",
      "/usr/local/lib/python3.6/dist-packages/ipykernel_launcher.py:35: UserWarning: Update your `Conv3D` call to the Keras 2 API: `Conv3D(512, (3, 3, 3), activation=\"relu\", name=\"conv4b\", strides=(1, 1, 1), padding=\"same\")`\n"
     ]
    },
    {
     "name": "stdout",
     "output_type": "stream",
     "text": [
      "Model: \"sequential_1\"\n",
      "_________________________________________________________________\n",
      "Layer (type)                 Output Shape              Param #   \n",
      "=================================================================\n",
      "conv1 (Conv3D)               (None, 16, 112, 112, 64)  5248      \n",
      "_________________________________________________________________\n",
      "batch_normalization_1 (Batch (None, 16, 112, 112, 64)  256       \n",
      "_________________________________________________________________\n",
      "pool1 (MaxPooling3D)         (None, 16, 56, 56, 64)    0         \n",
      "_________________________________________________________________\n",
      "conv2 (Conv3D)               (None, 16, 56, 56, 128)   221312    \n",
      "_________________________________________________________________\n",
      "batch_normalization_2 (Batch (None, 16, 56, 56, 128)   512       \n",
      "_________________________________________________________________\n",
      "pool2 (MaxPooling3D)         (None, 8, 28, 28, 128)    0         \n",
      "_________________________________________________________________\n",
      "conv3a (Conv3D)              (None, 8, 28, 28, 256)    884992    \n",
      "_________________________________________________________________\n",
      "conv3b (Conv3D)              (None, 8, 28, 28, 256)    1769728   \n",
      "_________________________________________________________________\n",
      "batch_normalization_3 (Batch (None, 8, 28, 28, 256)    1024      \n",
      "_________________________________________________________________\n",
      "pool3 (MaxPooling3D)         (None, 4, 14, 14, 256)    0         \n",
      "_________________________________________________________________\n",
      "conv4a (Conv3D)              (None, 4, 14, 14, 512)    3539456   \n",
      "_________________________________________________________________\n",
      "conv4b (Conv3D)              (None, 4, 14, 14, 512)    7078400   \n",
      "_________________________________________________________________\n",
      "batch_normalization_4 (Batch (None, 4, 14, 14, 512)    2048      \n",
      "_________________________________________________________________\n",
      "pool4 (MaxPooling3D)         (None, 2, 7, 7, 512)      0         \n",
      "_________________________________________________________________\n",
      "conv5a (Conv3D)              (None, 2, 7, 7, 512)      7078400   \n",
      "_________________________________________________________________\n",
      "conv5b (Conv3D)              (None, 2, 7, 7, 512)      7078400   \n",
      "_________________________________________________________________\n",
      "batch_normalization_5 (Batch (None, 2, 7, 7, 512)      2048      \n",
      "_________________________________________________________________\n",
      "global_average_pooling3d_1 ( (None, 512)               0         \n",
      "_________________________________________________________________\n",
      "dropout_1 (Dropout)          (None, 512)               0         \n",
      "_________________________________________________________________\n",
      "dense_1 (Dense)              (None, 10)                5130      \n",
      "=================================================================\n",
      "Total params: 27,666,954\n",
      "Trainable params: 27,664,010\n",
      "Non-trainable params: 2,944\n",
      "_________________________________________________________________\n",
      "None\n"
     ]
    },
    {
     "name": "stderr",
     "output_type": "stream",
     "text": [
      "/usr/local/lib/python3.6/dist-packages/ipykernel_launcher.py:38: UserWarning: Update your `MaxPooling3D` call to the Keras 2 API: `MaxPooling3D(pool_size=(2, 2, 2), strides=(2, 2, 2), name=\"pool4\", padding=\"valid\")`\n",
      "/usr/local/lib/python3.6/dist-packages/ipykernel_launcher.py:41: UserWarning: Update your `Conv3D` call to the Keras 2 API: `Conv3D(512, (3, 3, 3), activation=\"relu\", name=\"conv5a\", strides=(1, 1, 1), padding=\"same\")`\n",
      "/usr/local/lib/python3.6/dist-packages/ipykernel_launcher.py:44: UserWarning: Update your `Conv3D` call to the Keras 2 API: `Conv3D(512, (3, 3, 3), activation=\"relu\", name=\"conv5b\", strides=(1, 1, 1), padding=\"same\")`\n"
     ]
    }
   ],
   "source": [
    "from keras.models import Sequential\n",
    "from keras.layers.core import Dense, Dropout, Flatten\n",
    "from keras.layers import Convolution3D, MaxPooling3D, ZeroPadding3D, BatchNormalization, GlobalAveragePooling3D\n",
    "from keras.utils import plot_model\n",
    "\n",
    "def get_model():\n",
    "    model = Sequential()\n",
    "    model.add(Convolution3D(64, (3, 3, 3), activation='relu',\n",
    "                            border_mode='same', name='conv1',\n",
    "                            subsample=(1, 1, 1),\n",
    "                            input_shape=(16, 112, 112, 3)))\n",
    "    model.add(BatchNormalization())\n",
    "    model.add(MaxPooling3D(pool_size=(1, 2, 2), strides=(1, 2, 2),\n",
    "                           border_mode='valid', name='pool1'))\n",
    "    model.add(Convolution3D(128, (3, 3, 3), activation='relu',\n",
    "                            border_mode='same', name='conv2',\n",
    "                            subsample=(1, 1, 1)))\n",
    "    model.add(BatchNormalization())\n",
    "    model.add(MaxPooling3D(pool_size=(2, 2, 2), strides=(2, 2, 2),\n",
    "                           border_mode='valid', name='pool2'))\n",
    "    model.add(Convolution3D(256, (3, 3, 3), activation='relu',\n",
    "                            border_mode='same', name='conv3a',\n",
    "                            subsample=(1, 1, 1)))\n",
    "    model.add(Convolution3D(256, (3, 3, 3), activation='relu',\n",
    "                            border_mode='same', name='conv3b',\n",
    "                            subsample=(1, 1, 1)))\n",
    "    model.add(BatchNormalization())\n",
    "    model.add(MaxPooling3D(pool_size=(2, 2, 2), strides=(2, 2, 2),\n",
    "                           border_mode='valid', name='pool3'))\n",
    "    model.add(Convolution3D(512, (3, 3, 3), activation='relu',\n",
    "                            border_mode='same', name='conv4a',\n",
    "                            subsample=(1, 1, 1)))\n",
    "    model.add(Convolution3D(512, (3, 3, 3), activation='relu',\n",
    "                            border_mode='same', name='conv4b',\n",
    "                            subsample=(1, 1, 1)))\n",
    "    model.add(BatchNormalization())\n",
    "    model.add(MaxPooling3D(pool_size=(2, 2, 2), strides=(2, 2, 2),\n",
    "                           border_mode='valid', name='pool4'))\n",
    "    model.add(Convolution3D(512, (3, 3, 3), activation='relu',\n",
    "                            border_mode='same', name='conv5a',\n",
    "                            subsample=(1, 1, 1)))\n",
    "    model.add(Convolution3D(512, (3, 3, 3), activation='relu',\n",
    "                            border_mode='same', name='conv5b',\n",
    "                            subsample=(1, 1, 1)))\n",
    "    model.add(BatchNormalization())\n",
    "    model.add(GlobalAveragePooling3D())\n",
    "    model.add(Dropout(.5))\n",
    "    model.add(Dense(10, activation='softmax'))\n",
    "\n",
    "    print(model.summary())\n",
    "    return model\n",
    "\n",
    "model = get_model()"
   ]
  },
  {
   "cell_type": "markdown",
   "metadata": {
    "id": "Jlufim5tumsM"
   },
   "source": [
    "## **HYPERTUNING**"
   ]
  },
  {
   "cell_type": "code",
   "execution_count": null,
   "metadata": {
    "id": "OYlTIBYpgvLu"
   },
   "outputs": [],
   "source": [
    "import matplotlib.pyplot as plt\n",
    "from keras.optimizers import SGD\n",
    "from keras.utils import plot_model\n",
    "from keras.callbacks import ModelCheckpoint, ReduceLROnPlateau\n",
    "\n",
    "learning_rate = 0.001\n",
    "momentum = 0.9\n",
    "patienceLR = 3\n",
    "factor = 0.1\n",
    "batch_size = 32\n",
    "epochs = 50\n",
    "\n",
    "checkpoint = ModelCheckpoint(\"yoga.h5\",\n",
    "                             monitor = 'val_accuracy',\n",
    "                             mode = 'max',\n",
    "                             save_best_only = True,\n",
    "                             verbose = 1)\n",
    "\n",
    "reduce_lr = ReduceLROnPlateau(monitor = 'val_loss',\n",
    "                              factor = factor,\n",
    "                              mode = 'min',\n",
    "                              patience = patienceLR,\n",
    "                              verbose = 1)\n",
    "\n",
    "callbacks = [checkpoint, reduce_lr]"
   ]
  },
  {
   "cell_type": "markdown",
   "metadata": {
    "id": "vMS0rZy-us_Y"
   },
   "source": [
    "## **TRAINING THE MODEL**"
   ]
  },
  {
   "cell_type": "code",
   "execution_count": null,
   "metadata": {
    "id": "w5NIkx2j3MqM"
   },
   "outputs": [],
   "source": [
    "model.compile(loss = 'categorical_crossentropy', optimizer = SGD(lr=learning_rate, momentum=momentum, nesterov=True), metrics = ['accuracy'])"
   ]
  },
  {
   "cell_type": "code",
   "execution_count": null,
   "metadata": {
    "colab": {
     "base_uri": "https://localhost:8080/",
     "height": 1000
    },
    "id": "O3Di1Hg3w9fg",
    "outputId": "d34ac657-49b7-4946-d445-ec2b964d7e1b"
   },
   "outputs": [
    {
     "name": "stdout",
     "output_type": "stream",
     "text": [
      "Train on 3608 samples, validate on 451 samples\n",
      "Epoch 1/50\n",
      "3608/3608 [==============================] - 168s 47ms/step - loss: 2.0946 - accuracy: 0.2461 - val_loss: 4.4181 - val_accuracy: 0.1086\n",
      "\n",
      "Epoch 00001: val_accuracy improved from -inf to 0.10865, saving model to yoga.h5\n",
      "Epoch 2/50\n",
      "3608/3608 [==============================] - 158s 44ms/step - loss: 1.7278 - accuracy: 0.3805 - val_loss: 3.0047 - val_accuracy: 0.1796\n",
      "\n",
      "Epoch 00002: val_accuracy improved from 0.10865 to 0.17960, saving model to yoga.h5\n",
      "Epoch 3/50\n",
      "3608/3608 [==============================] - 158s 44ms/step - loss: 1.3884 - accuracy: 0.5164 - val_loss: 2.4303 - val_accuracy: 0.2705\n",
      "\n",
      "Epoch 00003: val_accuracy improved from 0.17960 to 0.27051, saving model to yoga.h5\n",
      "Epoch 4/50\n",
      "3608/3608 [==============================] - 158s 44ms/step - loss: 1.0586 - accuracy: 0.6366 - val_loss: 1.3696 - val_accuracy: 0.5277\n",
      "\n",
      "Epoch 00004: val_accuracy improved from 0.27051 to 0.52772, saving model to yoga.h5\n",
      "Epoch 5/50\n",
      "3608/3608 [==============================] - 158s 44ms/step - loss: 0.7926 - accuracy: 0.7300 - val_loss: 1.3316 - val_accuracy: 0.5033\n",
      "\n",
      "Epoch 00005: val_accuracy did not improve from 0.52772\n",
      "Epoch 6/50\n",
      "3608/3608 [==============================] - 158s 44ms/step - loss: 0.5298 - accuracy: 0.8210 - val_loss: 1.1030 - val_accuracy: 0.6186\n",
      "\n",
      "Epoch 00006: val_accuracy improved from 0.52772 to 0.61863, saving model to yoga.h5\n",
      "Epoch 7/50\n",
      "3608/3608 [==============================] - 158s 44ms/step - loss: 0.3847 - accuracy: 0.8794 - val_loss: 1.2420 - val_accuracy: 0.6563\n",
      "\n",
      "Epoch 00007: val_accuracy improved from 0.61863 to 0.65632, saving model to yoga.h5\n",
      "Epoch 8/50\n",
      "3608/3608 [==============================] - 158s 44ms/step - loss: 0.2490 - accuracy: 0.9268 - val_loss: 0.9132 - val_accuracy: 0.6940\n",
      "\n",
      "Epoch 00008: val_accuracy improved from 0.65632 to 0.69401, saving model to yoga.h5\n",
      "Epoch 9/50\n",
      "3608/3608 [==============================] - 158s 44ms/step - loss: 0.1763 - accuracy: 0.9457 - val_loss: 0.8980 - val_accuracy: 0.7694\n",
      "\n",
      "Epoch 00009: val_accuracy improved from 0.69401 to 0.76940, saving model to yoga.h5\n",
      "Epoch 10/50\n",
      "3608/3608 [==============================] - 158s 44ms/step - loss: 0.1248 - accuracy: 0.9667 - val_loss: 1.1376 - val_accuracy: 0.7140\n",
      "\n",
      "Epoch 00010: val_accuracy did not improve from 0.76940\n",
      "Epoch 11/50\n",
      "3608/3608 [==============================] - 158s 44ms/step - loss: 0.1260 - accuracy: 0.9645 - val_loss: 0.6712 - val_accuracy: 0.7916\n",
      "\n",
      "Epoch 00011: val_accuracy improved from 0.76940 to 0.79157, saving model to yoga.h5\n",
      "Epoch 12/50\n",
      "3608/3608 [==============================] - 158s 44ms/step - loss: 0.0524 - accuracy: 0.9867 - val_loss: 0.4105 - val_accuracy: 0.8825\n",
      "\n",
      "Epoch 00012: val_accuracy improved from 0.79157 to 0.88248, saving model to yoga.h5\n",
      "Epoch 13/50\n",
      "3608/3608 [==============================] - 158s 44ms/step - loss: 0.0219 - accuracy: 0.9972 - val_loss: 0.6181 - val_accuracy: 0.8381\n",
      "\n",
      "Epoch 00013: val_accuracy did not improve from 0.88248\n",
      "Epoch 14/50\n",
      "3608/3608 [==============================] - 158s 44ms/step - loss: 0.0212 - accuracy: 0.9972 - val_loss: 0.3556 - val_accuracy: 0.9002\n",
      "\n",
      "Epoch 00014: val_accuracy improved from 0.88248 to 0.90022, saving model to yoga.h5\n",
      "Epoch 15/50\n",
      "3608/3608 [==============================] - 158s 44ms/step - loss: 0.0252 - accuracy: 0.9945 - val_loss: 0.3844 - val_accuracy: 0.8869\n",
      "\n",
      "Epoch 00015: val_accuracy did not improve from 0.90022\n",
      "Epoch 16/50\n",
      "3608/3608 [==============================] - 158s 44ms/step - loss: 0.0101 - accuracy: 0.9994 - val_loss: 0.4152 - val_accuracy: 0.8936\n",
      "\n",
      "Epoch 00016: val_accuracy did not improve from 0.90022\n",
      "Epoch 17/50\n",
      "3608/3608 [==============================] - 158s 44ms/step - loss: 0.0160 - accuracy: 0.9975 - val_loss: 0.3740 - val_accuracy: 0.8936\n",
      "\n",
      "Epoch 00017: val_accuracy did not improve from 0.90022\n",
      "\n",
      "Epoch 00017: ReduceLROnPlateau reducing learning rate to 0.00010000000474974513.\n",
      "Epoch 18/50\n",
      "3608/3608 [==============================] - 158s 44ms/step - loss: 0.0181 - accuracy: 0.9970 - val_loss: 0.3112 - val_accuracy: 0.9047\n",
      "\n",
      "Epoch 00018: val_accuracy improved from 0.90022 to 0.90466, saving model to yoga.h5\n",
      "Epoch 19/50\n",
      "3608/3608 [==============================] - 158s 44ms/step - loss: 0.0081 - accuracy: 0.9992 - val_loss: 0.3070 - val_accuracy: 0.9091\n",
      "\n",
      "Epoch 00019: val_accuracy improved from 0.90466 to 0.90909, saving model to yoga.h5\n",
      "Epoch 20/50\n",
      "3608/3608 [==============================] - 158s 44ms/step - loss: 0.0039 - accuracy: 1.0000 - val_loss: 0.3043 - val_accuracy: 0.9069\n",
      "\n",
      "Epoch 00020: val_accuracy did not improve from 0.90909\n",
      "Epoch 21/50\n",
      "3608/3608 [==============================] - 158s 44ms/step - loss: 0.0039 - accuracy: 1.0000 - val_loss: 0.3029 - val_accuracy: 0.9091\n",
      "\n",
      "Epoch 00021: val_accuracy did not improve from 0.90909\n",
      "Epoch 22/50\n",
      "3608/3608 [==============================] - 158s 44ms/step - loss: 0.0034 - accuracy: 1.0000 - val_loss: 0.2996 - val_accuracy: 0.9113\n",
      "\n",
      "Epoch 00022: val_accuracy improved from 0.90909 to 0.91131, saving model to yoga.h5\n",
      "Epoch 23/50\n",
      "3608/3608 [==============================] - 158s 44ms/step - loss: 0.0034 - accuracy: 1.0000 - val_loss: 0.2958 - val_accuracy: 0.9113\n",
      "\n",
      "Epoch 00023: val_accuracy did not improve from 0.91131\n",
      "Epoch 24/50\n",
      "3608/3608 [==============================] - 158s 44ms/step - loss: 0.0037 - accuracy: 1.0000 - val_loss: 0.2912 - val_accuracy: 0.9113\n",
      "\n",
      "Epoch 00024: val_accuracy did not improve from 0.91131\n",
      "Epoch 25/50\n",
      "3608/3608 [==============================] - 158s 44ms/step - loss: 0.0033 - accuracy: 1.0000 - val_loss: 0.2934 - val_accuracy: 0.9135\n",
      "\n",
      "Epoch 00025: val_accuracy improved from 0.91131 to 0.91353, saving model to yoga.h5\n",
      "Epoch 26/50\n",
      "3608/3608 [==============================] - 158s 44ms/step - loss: 0.0035 - accuracy: 0.9997 - val_loss: 0.2910 - val_accuracy: 0.9180\n",
      "\n",
      "Epoch 00026: val_accuracy improved from 0.91353 to 0.91796, saving model to yoga.h5\n",
      "Epoch 27/50\n",
      "3608/3608 [==============================] - 158s 44ms/step - loss: 0.0033 - accuracy: 0.9997 - val_loss: 0.2938 - val_accuracy: 0.9113\n",
      "\n",
      "Epoch 00027: val_accuracy did not improve from 0.91796\n",
      "Epoch 28/50\n",
      "3608/3608 [==============================] - 158s 44ms/step - loss: 0.0028 - accuracy: 1.0000 - val_loss: 0.2929 - val_accuracy: 0.9157\n",
      "\n",
      "Epoch 00028: val_accuracy did not improve from 0.91796\n",
      "Epoch 29/50\n",
      "3608/3608 [==============================] - 158s 44ms/step - loss: 0.0024 - accuracy: 1.0000 - val_loss: 0.2929 - val_accuracy: 0.9113\n",
      "\n",
      "Epoch 00029: val_accuracy did not improve from 0.91796\n",
      "\n",
      "Epoch 00029: ReduceLROnPlateau reducing learning rate to 1.0000000474974514e-05.\n",
      "Epoch 30/50\n",
      "3608/3608 [==============================] - 158s 44ms/step - loss: 0.0029 - accuracy: 1.0000 - val_loss: 0.2935 - val_accuracy: 0.9135\n",
      "\n",
      "Epoch 00030: val_accuracy did not improve from 0.91796\n",
      "Epoch 31/50\n",
      "3608/3608 [==============================] - 158s 44ms/step - loss: 0.0025 - accuracy: 1.0000 - val_loss: 0.2941 - val_accuracy: 0.9135\n",
      "\n",
      "Epoch 00031: val_accuracy did not improve from 0.91796\n",
      "Epoch 32/50\n",
      "3608/3608 [==============================] - 158s 44ms/step - loss: 0.0025 - accuracy: 1.0000 - val_loss: 0.2940 - val_accuracy: 0.9180\n",
      "\n",
      "Epoch 00032: val_accuracy did not improve from 0.91796\n",
      "\n",
      "Epoch 00032: ReduceLROnPlateau reducing learning rate to 1.0000000656873453e-06.\n",
      "Epoch 33/50\n",
      "3608/3608 [==============================] - 158s 44ms/step - loss: 0.0023 - accuracy: 1.0000 - val_loss: 0.2943 - val_accuracy: 0.9135\n",
      "\n",
      "Epoch 00033: val_accuracy did not improve from 0.91796\n",
      "Epoch 34/50\n",
      "3608/3608 [==============================] - 158s 44ms/step - loss: 0.0026 - accuracy: 1.0000 - val_loss: 0.2936 - val_accuracy: 0.9135\n",
      "\n",
      "Epoch 00034: val_accuracy did not improve from 0.91796\n",
      "Epoch 35/50\n",
      "3608/3608 [==============================] - 158s 44ms/step - loss: 0.0025 - accuracy: 1.0000 - val_loss: 0.2941 - val_accuracy: 0.9157\n",
      "\n",
      "Epoch 00035: val_accuracy did not improve from 0.91796\n",
      "\n",
      "Epoch 00035: ReduceLROnPlateau reducing learning rate to 1.0000001111620805e-07.\n",
      "Epoch 36/50\n",
      "3608/3608 [==============================] - 158s 44ms/step - loss: 0.0026 - accuracy: 1.0000 - val_loss: 0.2935 - val_accuracy: 0.9157\n",
      "\n",
      "Epoch 00036: val_accuracy did not improve from 0.91796\n",
      "Epoch 37/50\n",
      "3608/3608 [==============================] - 158s 44ms/step - loss: 0.0030 - accuracy: 1.0000 - val_loss: 0.2922 - val_accuracy: 0.9157\n",
      "\n",
      "Epoch 00037: val_accuracy did not improve from 0.91796\n",
      "Epoch 38/50\n",
      "3608/3608 [==============================] - 158s 44ms/step - loss: 0.0028 - accuracy: 1.0000 - val_loss: 0.2923 - val_accuracy: 0.9135\n",
      "\n",
      "Epoch 00038: val_accuracy did not improve from 0.91796\n",
      "\n",
      "Epoch 00038: ReduceLROnPlateau reducing learning rate to 1.000000082740371e-08.\n",
      "Epoch 39/50\n",
      "3608/3608 [==============================] - 158s 44ms/step - loss: 0.0030 - accuracy: 1.0000 - val_loss: 0.2948 - val_accuracy: 0.9135\n",
      "\n",
      "Epoch 00039: val_accuracy did not improve from 0.91796\n",
      "Epoch 40/50\n",
      "3608/3608 [==============================] - 158s 44ms/step - loss: 0.0027 - accuracy: 1.0000 - val_loss: 0.2931 - val_accuracy: 0.9135\n",
      "\n",
      "Epoch 00040: val_accuracy did not improve from 0.91796\n",
      "Epoch 41/50\n",
      "3608/3608 [==============================] - 158s 44ms/step - loss: 0.0023 - accuracy: 1.0000 - val_loss: 0.2938 - val_accuracy: 0.9135\n",
      "\n",
      "Epoch 00041: val_accuracy did not improve from 0.91796\n",
      "\n",
      "Epoch 00041: ReduceLROnPlateau reducing learning rate to 1.000000082740371e-09.\n",
      "Epoch 42/50\n",
      "3608/3608 [==============================] - 158s 44ms/step - loss: 0.0029 - accuracy: 1.0000 - val_loss: 0.2928 - val_accuracy: 0.9135\n",
      "\n",
      "Epoch 00042: val_accuracy did not improve from 0.91796\n",
      "Epoch 43/50\n",
      "3608/3608 [==============================] - 158s 44ms/step - loss: 0.0022 - accuracy: 1.0000 - val_loss: 0.2923 - val_accuracy: 0.9135\n",
      "\n",
      "Epoch 00043: val_accuracy did not improve from 0.91796\n",
      "Epoch 44/50\n",
      "3608/3608 [==============================] - 158s 44ms/step - loss: 0.0027 - accuracy: 1.0000 - val_loss: 0.2955 - val_accuracy: 0.9091\n",
      "\n",
      "Epoch 00044: val_accuracy did not improve from 0.91796\n",
      "\n",
      "Epoch 00044: ReduceLROnPlateau reducing learning rate to 1.000000082740371e-10.\n",
      "Epoch 45/50\n",
      "3608/3608 [==============================] - 158s 44ms/step - loss: 0.0022 - accuracy: 1.0000 - val_loss: 0.2928 - val_accuracy: 0.9135\n",
      "\n",
      "Epoch 00045: val_accuracy did not improve from 0.91796\n",
      "Epoch 46/50\n",
      "3608/3608 [==============================] - 158s 44ms/step - loss: 0.0023 - accuracy: 1.0000 - val_loss: 0.2932 - val_accuracy: 0.9113\n",
      "\n",
      "Epoch 00046: val_accuracy did not improve from 0.91796\n",
      "Epoch 47/50\n",
      "3608/3608 [==============================] - 158s 44ms/step - loss: 0.0023 - accuracy: 1.0000 - val_loss: 0.2926 - val_accuracy: 0.9113\n",
      "\n",
      "Epoch 00047: val_accuracy did not improve from 0.91796\n",
      "\n",
      "Epoch 00047: ReduceLROnPlateau reducing learning rate to 1.000000082740371e-11.\n",
      "Epoch 48/50\n",
      "3608/3608 [==============================] - 158s 44ms/step - loss: 0.0026 - accuracy: 1.0000 - val_loss: 0.2934 - val_accuracy: 0.9157\n",
      "\n",
      "Epoch 00048: val_accuracy did not improve from 0.91796\n",
      "Epoch 49/50\n",
      "3608/3608 [==============================] - 158s 44ms/step - loss: 0.0031 - accuracy: 0.9997 - val_loss: 0.2918 - val_accuracy: 0.9157\n",
      "\n",
      "Epoch 00049: val_accuracy did not improve from 0.91796\n",
      "Epoch 50/50\n",
      "3608/3608 [==============================] - 158s 44ms/step - loss: 0.0025 - accuracy: 1.0000 - val_loss: 0.2928 - val_accuracy: 0.9180\n",
      "\n",
      "Epoch 00050: val_accuracy did not improve from 0.91796\n",
      "\n",
      "Epoch 00050: ReduceLROnPlateau reducing learning rate to 1.000000082740371e-12.\n"
     ]
    }
   ],
   "source": [
    "history = model.fit(X_train, y_train,\n",
    "                    validation_data = (X_val, y_val),\n",
    "                    epochs = epochs, batch_size = batch_size//2,\n",
    "                    verbose = 1, callbacks = callbacks)"
   ]
  },
  {
   "cell_type": "code",
   "execution_count": null,
   "metadata": {
    "colab": {
     "base_uri": "https://localhost:8080/",
     "height": 299
    },
    "id": "R9P_tKk_ag36",
    "outputId": "d4b7de0b-a008-47c4-ff36-c1225abdb436"
   },
   "outputs": [
    {
     "data": {
      "image/png": "[encoded data removed]",
      "text/plain": [
       "<Figure size 432x288 with 1 Axes>"
      ]
     },
     "metadata": {
      "tags": []
     },
     "output_type": "display_data"
    }
   ],
   "source": [
    "N = epochs\n",
    "plt.style.use(\"ggplot\")\n",
    "plt.figure()\n",
    "plt.plot(np.arange(0, N), history.history[\"loss\"], label=\"train_loss\")\n",
    "plt.plot(np.arange(0, N), history.history[\"val_loss\"], label=\"val_loss\")\n",
    "plt.plot(np.arange(0, N), history.history[\"accuracy\"], label=\"train_acc\")\n",
    "plt.plot(np.arange(0, N), history.history[\"val_accuracy\"], label=\"val_acc\")\n",
    "plt.title(\"Training Loss and Accuracy on Dataset\")\n",
    "plt.xlabel(\"Epoch #\")\n",
    "plt.ylabel(\"Loss/Accuracy\")\n",
    "plt.legend(loc=\"upper right\")\n",
    "plt.savefig(\"plot.png\")"
   ]
  },
  {
   "cell_type": "markdown",
   "metadata": {
    "id": "3B19MADLxFEg"
   },
   "source": [
    "## **PREDICTION VIA MODEL**"
   ]
  },
  {
   "cell_type": "code",
   "execution_count": null,
   "metadata": {
    "id": "UZLWuiA3zNOj"
   },
   "outputs": [],
   "source": [
    "from keras.models import load_model\n",
    "model = load_model('yoga.h5')"
   ]
  },
  {
   "cell_type": "code",
   "execution_count": null,
   "metadata": {
    "colab": {
     "base_uri": "https://localhost:8080/",
     "height": 34
    },
    "id": "cJS3hr0SxKlz",
    "outputId": "1ba7dc47-607e-4d1a-df2e-a6ca36cb0eaa"
   },
   "outputs": [
    {
     "name": "stdout",
     "output_type": "stream",
     "text": [
      "452/452 [==============================] - 7s 15ms/step\n"
     ]
    }
   ],
   "source": [
    "prediction = []\n",
    "prediction.append(model.predict(X_test, batch_size=batch_size//2, verbose=1))"
   ]
  },
  {
   "cell_type": "code",
   "execution_count": null,
   "metadata": {
    "id": "G3KKY8-iyeuI"
   },
   "outputs": [],
   "source": [
    "final = []\n",
    "for i in range(len(prediction[0])):\n",
    "  a = prediction[0][i]\n",
    "  b = np.zeros_like(a)\n",
    "  max_arg = a.argmax(0)\n",
    "  for j in range(10):\n",
    "    if j == max_arg:\n",
    "      b[j] = 1\n",
    "    else:\n",
    "      b[j] = 0\n",
    "  final.append(b.astype('uint8'))"
   ]
  },
  {
   "cell_type": "code",
   "execution_count": null,
   "metadata": {
    "colab": {
     "base_uri": "https://localhost:8080/",
     "height": 185
    },
    "id": "S92_up7s06DF",
    "outputId": "e25b5a3d-8887-455a-ba84-f8dfa025666c"
   },
   "outputs": [
    {
     "name": "stdout",
     "output_type": "stream",
     "text": [
      "[[37  0  0  1  0  0  0  0  0  3]\n",
      " [ 1 62  0  0  1  2  0  0  0  0]\n",
      " [ 0  1 48  0  0  0  0  1  1  0]\n",
      " [ 1  2  2 34  0  1  0  1  0  2]\n",
      " [ 0  0  0  0 29  0  0  0  0  0]\n",
      " [ 1  1  0  2  0 48  0  0  0  3]\n",
      " [ 0  0  0  0  2  0 42  0  0  2]\n",
      " [ 0  2  1  0  1  0  0 35  0  0]\n",
      " [ 0  0  0  0  1  0  0  0 30  0]\n",
      " [ 0  0  0  1  0  3  1  0  0 46]]\n"
     ]
    }
   ],
   "source": [
    "from sklearn.metrics import confusion_matrix\n",
    "print(confusion_matrix(np.argmax(y_test,axis=1), np.argmax(final, axis=1)))"
   ]
  },
  {
   "cell_type": "markdown",
   "metadata": {
    "id": "eoMDWQttZ7qY"
   },
   "source": [
    "## **TESTING ON A VIDEO**"
   ]
  },
  {
   "cell_type": "code",
   "execution_count": null,
   "metadata": {
    "id": "bg6-9lzkaBYD"
   },
   "outputs": [],
   "source": [
    "index_names = ['Garland Pose', 'Happy Baby Pose', 'Head To Knee Pose', 'Lunge Pose', 'Mountain Pose', 'Plank Pose', 'Raised Arms Pose', 'Seated Forward Bend', 'Staff Pose', 'Seated Forward Bend']"
   ]
  },
  {
   "cell_type": "code",
   "execution_count": null,
   "metadata": {
    "colab": {
     "base_uri": "https://localhost:8080/",
     "height": 1000
    },
    "id": "9-FLz-v0cTPT",
    "outputId": "5193d453-ac4c-456f-e668-d97f4eeb9f25"
   },
   "outputs": [
    {
     "name": "stdout",
     "output_type": "stream",
     "text": [
      "sample11.mp4\n",
      "Lunge Pose\n",
      "--- 0.668281078338623 seconds ---\n",
      "Lunge Pose\n",
      "--- 0.7137174606323242 seconds ---\n",
      "Lunge Pose\n",
      "--- 0.7622120380401611 seconds ---\n",
      "Lunge Pose\n",
      "--- 0.8066744804382324 seconds ---\n",
      "Lunge Pose\n",
      "--- 0.8544330596923828 seconds ---\n",
      "Lunge Pose\n",
      "--- 0.9029445648193359 seconds ---\n",
      "Lunge Pose\n",
      "--- 0.953188419342041 seconds ---\n",
      "Lunge Pose\n",
      "--- 0.997138500213623 seconds ---\n",
      "Lunge Pose\n",
      "--- 1.0453522205352783 seconds ---\n",
      "Lunge Pose\n",
      "--- 1.0935723781585693 seconds ---\n",
      "Lunge Pose\n",
      "--- 1.1422960758209229 seconds ---\n",
      "Lunge Pose\n",
      "--- 1.1859302520751953 seconds ---\n",
      "Lunge Pose\n",
      "--- 1.2305006980895996 seconds ---\n",
      "Lunge Pose\n",
      "--- 1.2797682285308838 seconds ---\n",
      "Lunge Pose\n",
      "--- 1.325268030166626 seconds ---\n",
      "Lunge Pose\n",
      "--- 1.370790958404541 seconds ---\n",
      "Lunge Pose\n",
      "--- 1.4137914180755615 seconds ---\n",
      "Lunge Pose\n",
      "--- 1.4579291343688965 seconds ---\n",
      "Lunge Pose\n",
      "--- 1.5068998336791992 seconds ---\n",
      "Lunge Pose\n",
      "--- 1.555168867111206 seconds ---\n",
      "Lunge Pose\n",
      "--- 1.6018996238708496 seconds ---\n",
      "Lunge Pose\n",
      "--- 1.6457583904266357 seconds ---\n",
      "Lunge Pose\n",
      "--- 1.6913695335388184 seconds ---\n",
      "Lunge Pose\n",
      "--- 1.7406127452850342 seconds ---\n",
      "Lunge Pose\n",
      "--- 1.787018060684204 seconds ---\n",
      "Lunge Pose\n",
      "--- 1.8303542137145996 seconds ---\n",
      "Lunge Pose\n",
      "--- 1.8753104209899902 seconds ---\n",
      "Lunge Pose\n",
      "--- 1.9196937084197998 seconds ---\n",
      "Lunge Pose\n",
      "--- 1.9690303802490234 seconds ---\n",
      "Lunge Pose\n",
      "--- 2.012863874435425 seconds ---\n",
      "Lunge Pose\n",
      "--- 2.0575170516967773 seconds ---\n",
      "Lunge Pose\n",
      "--- 2.1014723777770996 seconds ---\n",
      "Lunge Pose\n",
      "--- 2.1467411518096924 seconds ---\n",
      "Lunge Pose\n",
      "--- 2.190568447113037 seconds ---\n",
      "Lunge Pose\n",
      "--- 2.234337568283081 seconds ---\n",
      "Lunge Pose\n",
      "--- 2.283588409423828 seconds ---\n",
      "Lunge Pose\n",
      "--- 2.328148603439331 seconds ---\n",
      "Lunge Pose\n",
      "--- 2.3706953525543213 seconds ---\n",
      "Lunge Pose\n",
      "--- 2.4126169681549072 seconds ---\n",
      "Lunge Pose\n",
      "--- 2.4563300609588623 seconds ---\n",
      "Lunge Pose\n",
      "--- 2.498903274536133 seconds ---\n",
      "Lunge Pose\n",
      "--- 2.5425782203674316 seconds ---\n",
      "Lunge Pose\n",
      "--- 2.5867576599121094 seconds ---\n",
      "Lunge Pose\n",
      "--- 2.633387565612793 seconds ---\n",
      "Lunge Pose\n",
      "--- 2.680300712585449 seconds ---\n",
      "Lunge Pose\n",
      "--- 2.7244255542755127 seconds ---\n",
      "Lunge Pose\n",
      "--- 2.771277666091919 seconds ---\n",
      "Lunge Pose\n",
      "--- 2.814281702041626 seconds ---\n",
      "Lunge Pose\n",
      "--- 2.8576197624206543 seconds ---\n",
      "Lunge Pose\n",
      "--- 2.900667667388916 seconds ---\n",
      "Lunge Pose\n",
      "--- 2.9460718631744385 seconds ---\n",
      "Lunge Pose\n",
      "--- 2.9901697635650635 seconds ---\n",
      "Lunge Pose\n",
      "--- 3.033219337463379 seconds ---\n",
      "Lunge Pose\n",
      "--- 3.077746629714966 seconds ---\n",
      "Lunge Pose\n",
      "--- 3.121039867401123 seconds ---\n",
      "Seated Forward Bend\n",
      "--- 3.1639389991760254 seconds ---\n",
      "Seated Forward Bend\n",
      "--- 3.207235097885132 seconds ---\n",
      "Seated Forward Bend\n",
      "--- 3.2502822875976562 seconds ---\n",
      "Seated Forward Bend\n",
      "--- 3.2935965061187744 seconds ---\n",
      "Seated Forward Bend\n",
      "--- 3.3402671813964844 seconds ---\n",
      "Seated Forward Bend\n",
      "--- 3.3842594623565674 seconds ---\n",
      "Seated Forward Bend\n",
      "--- 3.4288196563720703 seconds ---\n",
      "Seated Forward Bend\n",
      "--- 3.4726316928863525 seconds ---\n",
      "Seated Forward Bend\n",
      "--- 3.516287326812744 seconds ---\n",
      "Seated Forward Bend\n",
      "--- 3.5594704151153564 seconds ---\n",
      "Seated Forward Bend\n",
      "--- 3.6116111278533936 seconds ---\n",
      "Seated Forward Bend\n",
      "--- 3.6584692001342773 seconds ---\n",
      "Seated Forward Bend\n",
      "--- 3.7022740840911865 seconds ---\n",
      "Seated Forward Bend\n",
      "--- 3.7504563331604004 seconds ---\n",
      "Seated Forward Bend\n",
      "--- 3.800816774368286 seconds ---\n",
      "Seated Forward Bend\n",
      "--- 3.8463330268859863 seconds ---\n",
      "Seated Forward Bend\n",
      "--- 3.8890533447265625 seconds ---\n",
      "Seated Forward Bend\n",
      "--- 3.9347286224365234 seconds ---\n",
      "Seated Forward Bend\n",
      "--- 3.9846761226654053 seconds ---\n",
      "Seated Forward Bend\n",
      "--- 4.031891822814941 seconds ---\n",
      "Seated Forward Bend\n",
      "--- 4.078183889389038 seconds ---\n",
      "Seated Forward Bend\n",
      "--- 4.121255159378052 seconds ---\n",
      "Seated Forward Bend\n",
      "--- 4.170347213745117 seconds ---\n",
      "Seated Forward Bend\n",
      "--- 4.2135021686553955 seconds ---\n",
      "Seated Forward Bend\n",
      "--- 4.2610907554626465 seconds ---\n",
      "Seated Forward Bend\n",
      "--- 4.305413484573364 seconds ---\n",
      "Seated Forward Bend\n",
      "--- 4.350038051605225 seconds ---\n",
      "Seated Forward Bend\n",
      "--- 4.392960548400879 seconds ---\n",
      "Seated Forward Bend\n",
      "--- 4.438077449798584 seconds ---\n",
      "Seated Forward Bend\n",
      "--- 4.480247735977173 seconds ---\n",
      "Seated Forward Bend\n",
      "--- 4.5237860679626465 seconds ---\n",
      "Seated Forward Bend\n",
      "--- 4.566077709197998 seconds ---\n",
      "Seated Forward Bend\n",
      "--- 4.608659982681274 seconds ---\n",
      "Seated Forward Bend\n",
      "--- 4.651473522186279 seconds ---\n",
      "Seated Forward Bend\n",
      "--- 4.695668935775757 seconds ---\n",
      "Seated Forward Bend\n",
      "--- 4.744728326797485 seconds ---\n",
      "Seated Forward Bend\n",
      "--- 4.786855220794678 seconds ---\n",
      "Seated Forward Bend\n",
      "--- 4.8286895751953125 seconds ---\n",
      "Seated Forward Bend\n",
      "--- 4.8713462352752686 seconds ---\n",
      "Seated Forward Bend\n",
      "--- 4.915920734405518 seconds ---\n",
      "Seated Forward Bend\n",
      "--- 4.96152925491333 seconds ---\n",
      "Seated Forward Bend\n",
      "--- 5.009707450866699 seconds ---\n",
      "Seated Forward Bend\n",
      "--- 5.055068492889404 seconds ---\n",
      "Seated Forward Bend\n",
      "--- 5.102737903594971 seconds ---\n",
      "Seated Forward Bend\n",
      "--- 5.150692939758301 seconds ---\n",
      "Seated Forward Bend\n",
      "--- 5.195969581604004 seconds ---\n",
      "Seated Forward Bend\n",
      "--- 5.2390360832214355 seconds ---\n",
      "Seated Forward Bend\n",
      "--- 5.285890579223633 seconds ---\n",
      "Seated Forward Bend\n",
      "--- 5.328840255737305 seconds ---\n",
      "Seated Forward Bend\n",
      "--- 5.374479293823242 seconds ---\n",
      "Seated Forward Bend\n",
      "--- 5.421574115753174 seconds ---\n",
      "Seated Forward Bend\n",
      "--- 5.465412855148315 seconds ---\n",
      "Seated Forward Bend\n",
      "--- 5.508482217788696 seconds ---\n",
      "Seated Forward Bend\n",
      "--- 5.550617694854736 seconds ---\n",
      "Seated Forward Bend\n",
      "--- 5.593104124069214 seconds ---\n",
      "Seated Forward Bend\n",
      "--- 5.63794469833374 seconds ---\n",
      "Seated Forward Bend\n",
      "--- 5.685163259506226 seconds ---\n",
      "Seated Forward Bend\n",
      "--- 5.732304573059082 seconds ---\n",
      "Seated Forward Bend\n",
      "--- 5.7778308391571045 seconds ---\n",
      "Seated Forward Bend\n",
      "--- 5.821613073348999 seconds ---\n",
      "Seated Forward Bend\n",
      "--- 5.865354299545288 seconds ---\n",
      "Seated Forward Bend\n",
      "--- 5.91413950920105 seconds ---\n",
      "Seated Forward Bend\n",
      "--- 5.963544130325317 seconds ---\n",
      "Seated Forward Bend\n",
      "--- 6.014084100723267 seconds ---\n",
      "Seated Forward Bend\n",
      "--- 6.061490058898926 seconds ---\n"
     ]
    }
   ],
   "source": [
    "import cv2\n",
    "import time\n",
    "import numpy as np\n",
    "\n",
    "names = ['sample11.mp4']\n",
    "\n",
    "for name in names:\n",
    "\n",
    "  print(name)\n",
    "  start_time = time.time()\n",
    "\n",
    "  vs = cv2.VideoCapture(name)\n",
    "  pred = []\n",
    "  results = []\n",
    "  writer = None\n",
    "\n",
    "  while True:\n",
    "      (grabbed, frame) = vs.read()\n",
    "      if not grabbed:\n",
    "          break\n",
    "\n",
    "      #output = frame.copy()\n",
    "      #output = cv2.resize(output, (1280, 720), cv2.INTER_AREA)\n",
    "\n",
    "      frame = cv2.cvtColor(frame, cv2.COLOR_BGR2RGB)\n",
    "      frame = cv2.resize(frame, (112, 112), cv2.INTER_AREA)\n",
    "      frame = (frame / 255.).astype('float32')\n",
    "      pred.append(frame)\n",
    "\n",
    "      if len(pred) == 16:\n",
    "        p = model.predict(np.expand_dims(pred, axis=0))\n",
    "        pos = p.argmax()\n",
    "        if p[0][pos] > 0.5:\n",
    "          label = index_names[pos]\n",
    "\n",
    "        #output = cv2.putText(output, label, (180, 120), cv2.FONT_HERSHEY_SIMPLEX, 1.2, (0, 0, 0), 4)\n",
    "        pred.pop(0)\n",
    "        print(label)\n",
    "        print(\"--- %s seconds ---\" % (time.time() - start_time))\n",
    "\n",
    "      #if writer is None:\n",
    "        #fourcc = cv2.VideoWriter_fourcc(*'MJPG')\n",
    "        #writer = cv2.VideoWriter('Output '+name, fourcc, 30, (1280, 720), True)\n",
    "      #writer.write(output)\n",
    "\n",
    "  #writer.release()\n",
    "  vs.release()"
   ]
  }
 ],
 "metadata": {
  "accelerator": "GPU",
  "colab": {
   "machine_shape": "hm",
   "provenance": []
  },
  "kernelspec": {
   "display_name": "Python 3",
   "language": "python",
   "name": "python3"
  },
  "language_info": {
   "codemirror_mode": {
    "name": "ipython",
    "version": 3
   },
   "file_extension": ".py",
   "mimetype": "text/x-python",
   "name": "python",
   "nbconvert_exporter": "python",
   "pygments_lexer": "ipython3",
   "version": "3.8.8"
  }
 },
 "nbformat": 4,
 "nbformat_minor": 1
}
